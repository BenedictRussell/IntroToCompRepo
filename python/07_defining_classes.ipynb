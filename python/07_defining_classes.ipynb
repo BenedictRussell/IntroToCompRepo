{
 "cells": [
  {
   "cell_type": "markdown",
   "metadata": {},
   "source": [
    "# Defining your own classes"
   ]
  },
  {
   "cell_type": "markdown",
   "metadata": {},
   "source": [
    "*Estimated time for this notebook: 20 minutes*"
   ]
  },
  {
   "cell_type": "markdown",
   "metadata": {},
   "source": [
    "## User Defined Types"
   ]
  },
  {
   "cell_type": "markdown",
   "metadata": {},
   "source": [
    "A **class** is a user-programmed Python type.\n",
    "There are different ways to code. So far we have only described procedural programming paradigm where code is written in one \"block\". Another approach would be to define object whom have the functions attached to them, so called \"object orentated\" programming (OOP). Java and C++ are classic OOP languages but Python also allows for OOP using Python Classes. N.B Julia uses Structs which are sort of similar."
   ]
  },
  {
   "cell_type": "markdown",
   "metadata": {},
   "source": [
    "It is defined like:"
   ]
  },
  {
   "cell_type": "code",
   "execution_count": 1,
   "metadata": {},
   "outputs": [],
   "source": [
    "class Room:\n",
    "    pass"
   ]
  },
  {
   "cell_type": "markdown",
   "metadata": {},
   "source": [
    "Just as with other python types, you use the name of the type as a function to make a variable of that type:"
   ]
  },
  {
   "cell_type": "code",
   "execution_count": 2,
   "metadata": {},
   "outputs": [
    {
     "data": {
      "text/plain": [
       "int"
      ]
     },
     "execution_count": 2,
     "metadata": {},
     "output_type": "execute_result"
    }
   ],
   "source": [
    "zero = int()\n",
    "type(zero)"
   ]
  },
  {
   "cell_type": "code",
   "execution_count": 3,
   "metadata": {},
   "outputs": [
    {
     "data": {
      "text/plain": [
       "__main__.Room"
      ]
     },
     "execution_count": 3,
     "metadata": {},
     "output_type": "execute_result"
    }
   ],
   "source": [
    "myroom = Room()\n",
    "type(myroom)"
   ]
  },
  {
   "cell_type": "markdown",
   "metadata": {},
   "source": [
    "In the jargon, we say that an **object** is an **instance** of a particular **class**.\n",
    "\n",
    "`__main__` is the name of the scope in which top-level code executes, where we've defined the class `Room`."
   ]
  },
  {
   "cell_type": "markdown",
   "metadata": {},
   "source": [
    "Once we have an object with a type of our own devising, we can add properties at will:"
   ]
  },
  {
   "cell_type": "code",
   "execution_count": 4,
   "metadata": {},
   "outputs": [],
   "source": [
    "myroom.name = \"Living\""
   ]
  },
  {
   "cell_type": "code",
   "execution_count": 5,
   "metadata": {},
   "outputs": [
    {
     "data": {
      "text/plain": [
       "'Living'"
      ]
     },
     "execution_count": 5,
     "metadata": {},
     "output_type": "execute_result"
    }
   ],
   "source": [
    "myroom.name"
   ]
  },
  {
   "cell_type": "markdown",
   "metadata": {},
   "source": [
    "The most common use of a class is to allow us to group data into an object in a way that is \n",
    "easier to read and understand than organising data into lists and dictionaries."
   ]
  },
  {
   "cell_type": "code",
   "execution_count": 6,
   "metadata": {},
   "outputs": [],
   "source": [
    "myroom.capacity = 3\n",
    "myroom.occupants = [\"James\", \"Sue\"]"
   ]
  },
  {
   "cell_type": "markdown",
   "metadata": {},
   "source": [
    "## Methods"
   ]
  },
  {
   "cell_type": "markdown",
   "metadata": {},
   "source": [
    "So far, our class doesn't do much!"
   ]
  },
  {
   "cell_type": "markdown",
   "metadata": {},
   "source": [
    "We define functions **inside** the definition of a class, in order to give them capabilities, just like the methods on built-in\n",
    "types."
   ]
  },
  {
   "cell_type": "code",
   "execution_count": 7,
   "metadata": {},
   "outputs": [],
   "source": [
    "class Room:\n",
    "    def overfull(self):\n",
    "        return len(self.occupants) > self.capacity"
   ]
  },
  {
   "cell_type": "code",
   "execution_count": 8,
   "metadata": {},
   "outputs": [],
   "source": [
    "myroom = Room()\n",
    "myroom.capacity = 3\n",
    "myroom.occupants = [\"James\", \"Sue\"]"
   ]
  },
  {
   "cell_type": "code",
   "execution_count": 9,
   "metadata": {},
   "outputs": [
    {
     "data": {
      "text/plain": [
       "False"
      ]
     },
     "execution_count": 9,
     "metadata": {},
     "output_type": "execute_result"
    }
   ],
   "source": [
    "myroom.overfull()"
   ]
  },
  {
   "cell_type": "code",
   "execution_count": 10,
   "metadata": {},
   "outputs": [],
   "source": [
    "myroom.occupants.append([\"Clare\"])"
   ]
  },
  {
   "cell_type": "code",
   "execution_count": 11,
   "metadata": {},
   "outputs": [],
   "source": [
    "myroom.occupants.append([\"Bob\"])"
   ]
  },
  {
   "cell_type": "code",
   "execution_count": 12,
   "metadata": {},
   "outputs": [
    {
     "data": {
      "text/plain": [
       "True"
      ]
     },
     "execution_count": 12,
     "metadata": {},
     "output_type": "execute_result"
    }
   ],
   "source": [
    "myroom.overfull()"
   ]
  },
  {
   "cell_type": "markdown",
   "metadata": {},
   "source": [
    "When we write methods, we always write the first function argument as `self`, to refer to the object instance itself,\n",
    "the argument that goes \"before the dot\"."
   ]
  },
  {
   "cell_type": "markdown",
   "metadata": {},
   "source": [
    "This is just a convention for this variable name, not a keyword. You could call it something else if you wanted."
   ]
  },
  {
   "cell_type": "markdown",
   "metadata": {},
   "source": [
    "## Constructors"
   ]
  },
  {
   "cell_type": "markdown",
   "metadata": {},
   "source": [
    "Normally, though, we don't want to add data to the class attributes on the fly like that. \n",
    "Instead, we define a **constructor** that converts input data into an object. "
   ]
  },
  {
   "cell_type": "code",
   "execution_count": 13,
   "metadata": {},
   "outputs": [],
   "source": [
    "class Room:\n",
    "    def __init__(self, name, exits, capacity, occupants=[]):\n",
    "        self.name = name\n",
    "        self.occupants = occupants  # Note the default argument, occupants start empty\n",
    "        self.exits = exits\n",
    "        self.capacity = capacity\n",
    "\n",
    "    def overfull(self):\n",
    "        return len(self.occupants) > self.capacity"
   ]
  },
  {
   "cell_type": "code",
   "execution_count": 14,
   "metadata": {},
   "outputs": [],
   "source": [
    "living = Room(\"Living Room\", {\"north\": \"garden\"}, 3)"
   ]
  },
  {
   "cell_type": "code",
   "execution_count": 15,
   "metadata": {},
   "outputs": [
    {
     "data": {
      "text/plain": [
       "3"
      ]
     },
     "execution_count": 15,
     "metadata": {},
     "output_type": "execute_result"
    }
   ],
   "source": [
    "living.capacity"
   ]
  },
  {
   "cell_type": "markdown",
   "metadata": {},
   "source": [
    "Methods which begin and end with **two underscores** in their names fulfil special capabilities in Python, such as\n",
    "constructors."
   ]
  },
  {
   "cell_type": "markdown",
   "metadata": {},
   "source": [
    "## Animal Farm Example"
   ]
  },
  {
   "cell_type": "code",
   "execution_count": 16,
   "metadata": {},
   "outputs": [],
   "source": [
    "# define a new base class called Animal\n",
    "class Animal:\n",
    "    # initialisation function: when we define an object/instance of the Animal class we provide the inputs arguments\n",
    "    # i.e name and sound. The input acts upon the object hence the \"self\" input but this is not provided when called\n",
    "    def __init__(self, name, sound): \n",
    "        # we access the member variables of the current object \"self.varname\" and set the values\n",
    "        self.name = name\n",
    "        self.sound = sound\n",
    "    \n",
    "    # member methods; here they just print the data but in general may act like any other function.\n",
    "    def speak(self):\n",
    "        print(self.sound)\n",
    "        \n",
    "    def details(self):\n",
    "        print(\"details:\",self.name,\",\", self.sound)\n",
    "        \n",
    "    # an example of a more complicated member function; the input is a second object of class Animal and we call\n",
    "    # the member variables from this new class.\n",
    "    def groupNoise(self,second_animal):\n",
    "        noiseString = self.sound + \"+\" + second_animal.sound\n",
    "        print(noiseString)"
   ]
  },
  {
   "cell_type": "code",
   "execution_count": 17,
   "metadata": {},
   "outputs": [
    {
     "name": "stdout",
     "output_type": "stream",
     "text": [
      "oink\n",
      "details: pig , oink\n"
     ]
    }
   ],
   "source": [
    "# code block\n",
    "\n",
    "# we define an object called \"x\" which is of the Animal class. The input arugments are strings.\n",
    "x = Animal(\"pig\", \"oink\")\n",
    "\n",
    "# from the object we call the member methods.\n",
    "x.speak() \n",
    "x.details()"
   ]
  },
  {
   "cell_type": "code",
   "execution_count": 18,
   "metadata": {},
   "outputs": [],
   "source": [
    "# derived class. The FarmAnimal class builds upon the Animal class as shown in the brackets (Animal) after the name\n",
    "class FarmAnimal(Animal):\n",
    "    # the class has it's own init function but calls the init of the class it derives from \n",
    "    def __init__(self, name, sound, dwelling):\n",
    "        # super() keyword refers to the Animal class and calls the \"__init__\" function\n",
    "        super().__init__(name, sound) \n",
    "        # set the new member variable \"dwelling\"\n",
    "        self.dwelling = dwelling\n",
    "    \n",
    "    # new member function\n",
    "    def location(self):\n",
    "        print(self.dwelling)\n",
    "        \n",
    "    # This function overrides the inherited Animal.details() function as the names are the same. \n",
    "    def details(self):\n",
    "        print(\"details:\",self.name,\",\", self.sound,\",\", self.dwelling)\n"
   ]
  },
  {
   "cell_type": "code",
   "execution_count": 19,
   "metadata": {},
   "outputs": [
    {
     "name": "stdout",
     "output_type": "stream",
     "text": [
      "oink\n",
      "paddock\n",
      "details: pig , oink , paddock\n"
     ]
    }
   ],
   "source": [
    "# code block for the FarmAnimal derived class\n",
    "x = FarmAnimal(\"pig\", \"oink\", \"paddock\") \n",
    "x.speak() # defined in the base Animal class.\n",
    "x.location() \n",
    "x.details() # defined in base Animal but overriden in the FarmAnimal class so will have new behaviour"
   ]
  },
  {
   "cell_type": "code",
   "execution_count": 20,
   "metadata": {},
   "outputs": [
    {
     "name": "stdout",
     "output_type": "stream",
     "text": [
      "oink\n",
      "paddock\n",
      "pink\n",
      "details: pink\n"
     ]
    }
   ],
   "source": [
    "# further derived class but this time deriving from FarmAnimal. As FarmAnimal inherits from Animal so too does Pig\n",
    "class Pig(FarmAnimal):\n",
    "    # we initialise the class with a default argument\n",
    "    def __init__(self, colour=\"pink\"):\n",
    "        # we can specify the arguments for the base init\n",
    "        super().__init__(\"pig\", \"oink\", \"paddock\") \n",
    "        self.colour = colour # new member variable\n",
    "        \n",
    "    def appearance(self):\n",
    "        print(self.colour)\n",
    "        \n",
    "    # overridden details method\n",
    "    def details(self):\n",
    "        print(\"details:\",self.colour)\n",
    "        \n",
    "x = Pig()\n",
    "x.speak() \n",
    "x.location() \n",
    "x.appearance()\n",
    "x.details()"
   ]
  },
  {
   "cell_type": "code",
   "execution_count": 21,
   "metadata": {},
   "outputs": [
    {
     "name": "stdout",
     "output_type": "stream",
     "text": [
      "moo\n",
      "field\n",
      "brown\n",
      "details: cow , moo , field\n"
     ]
    }
   ],
   "source": [
    "# a second class may also iherit from FarmAnimal. \n",
    "class Cow(FarmAnimal):\n",
    "    def __init__(self, colour=\"brown\"):\n",
    "        super().__init__(\"cow\", \"moo\", \"field\") \n",
    "        self.colour = colour\n",
    "        \n",
    "    def appearance(self):\n",
    "        print(self.colour)\n",
    "        \n",
    "   # def details(self):\n",
    "    #    print(\"details:\",self.colour)\n",
    "        \n",
    "x = Cow()\n",
    "x.speak() \n",
    "x.location() \n",
    "x.appearance()\n",
    "x.details()"
   ]
  },
  {
   "cell_type": "code",
   "execution_count": 22,
   "metadata": {},
   "outputs": [
    {
     "name": "stdout",
     "output_type": "stream",
     "text": [
      "oink+moo\n"
     ]
    }
   ],
   "source": [
    "# we can test the more complicated memebr function that all these classes inherit from Animal.\n",
    "x = Pig() # an object of the \"Pig -> FarmAnimal -> Animal\" class\n",
    "y = Cow() # an object of the \"Cow -> FarmAnimal -> Animal\" class\n",
    "\n",
    "x.groupNoise(y) # Pig.groupNoise(Cow)"
   ]
  },
  {
   "cell_type": "code",
   "execution_count": null,
   "metadata": {},
   "outputs": [],
   "source": []
  },
  {
   "cell_type": "markdown",
   "metadata": {},
   "source": [
    "## Interesting Object-oriented design"
   ]
  },
  {
   "cell_type": "markdown",
   "metadata": {},
   "source": [
    "In building a computer system to model a problem, therefore, we often want to make:\n",
    "\n",
    "* classes for each *kind of thing* in our system\n",
    "* methods for each *capability* of that kind\n",
    "* properties (defined in a constructor) for each *piece of information describing* that kind\n"
   ]
  },
  {
   "cell_type": "markdown",
   "metadata": {},
   "source": [
    "For example, the below program might describe our \"Maze of Rooms\" system:"
   ]
  },
  {
   "cell_type": "markdown",
   "metadata": {},
   "source": [
    "There are many choices for how to design programs to do this. One choice would be to separately define exits as a different class from rooms. This way, \n",
    "we can use arrays instead of dictionaries, but we have to first define all our rooms, then define all our exits."
   ]
  },
  {
   "cell_type": "code",
   "execution_count": 23,
   "metadata": {},
   "outputs": [],
   "source": [
    "class Maze:\n",
    "    def __init__(self, name):\n",
    "        self.name = name\n",
    "        self.rooms = []\n",
    "        self.occupants = []\n",
    "\n",
    "    def add_room(self, name, capacity):\n",
    "        result = Room(name, capacity)\n",
    "        self.rooms.append(result)\n",
    "        return result\n",
    "\n",
    "    def add_exit(self, name, source, target, reverse=None):\n",
    "        source.add_exit(name, target)\n",
    "        if reverse:\n",
    "            target.add_exit(reverse, source)\n",
    "\n",
    "    def add_occupant(self, name, room):\n",
    "        self.occupants.append(Person(name, room))\n",
    "        room.occupancy += 1\n",
    "\n",
    "    def wander(self):\n",
    "        \"Move all the people in a random direction\"\n",
    "        for occupant in self.occupants:\n",
    "            occupant.wander()\n",
    "\n",
    "    def describe(self):\n",
    "        for occupant in self.occupants:\n",
    "            occupant.describe()\n",
    "\n",
    "    def step(self):\n",
    "        self.describe()\n",
    "        print(\"\")\n",
    "        self.wander()\n",
    "        print(\"\")\n",
    "\n",
    "    def simulate(self, steps):\n",
    "        for _ in range(steps):\n",
    "            self.step()"
   ]
  },
  {
   "cell_type": "code",
   "execution_count": 24,
   "metadata": {},
   "outputs": [],
   "source": [
    "class Room:\n",
    "    def __init__(self, name, capacity):\n",
    "        self.name = name\n",
    "        self.capacity = capacity\n",
    "        self.occupancy = 0\n",
    "        self.exits = []\n",
    "\n",
    "    def has_space(self):\n",
    "        return self.occupancy < self.capacity\n",
    "\n",
    "    def available_exits(self):\n",
    "        return [exit for exit in self.exits if exit.valid()]\n",
    "\n",
    "    def random_valid_exit(self):\n",
    "        import random\n",
    "\n",
    "        if not self.available_exits():\n",
    "            return None\n",
    "        return random.choice(self.available_exits())\n",
    "\n",
    "    def add_exit(self, name, target):\n",
    "        self.exits.append(Exit(name, target))"
   ]
  },
  {
   "cell_type": "code",
   "execution_count": 25,
   "metadata": {},
   "outputs": [],
   "source": [
    "class Person:\n",
    "    def __init__(self, name, room=None):\n",
    "        self.name = name\n",
    "        self.room = room\n",
    "\n",
    "    def use(self, exit):\n",
    "        self.room.occupancy -= 1\n",
    "        destination = exit.target\n",
    "        destination.occupancy += 1\n",
    "        self.room = destination\n",
    "        print(f\"{self.name} goes {exit.name} to the {destination.name}\")\n",
    "\n",
    "    def wander(self):\n",
    "        exit = self.room.random_valid_exit()\n",
    "        if exit:\n",
    "            self.use(exit)\n",
    "\n",
    "    def describe(self):\n",
    "        print(f\"{self.name} is in the {self.room.name}\")"
   ]
  },
  {
   "cell_type": "code",
   "execution_count": 26,
   "metadata": {},
   "outputs": [],
   "source": [
    "class Exit:\n",
    "    def __init__(self, name, target):\n",
    "        self.name = name\n",
    "        self.target = target\n",
    "\n",
    "    def valid(self):\n",
    "        return self.target.has_space()"
   ]
  },
  {
   "cell_type": "code",
   "execution_count": 27,
   "metadata": {},
   "outputs": [],
   "source": [
    "house = Maze(\"My New House\")"
   ]
  },
  {
   "cell_type": "code",
   "execution_count": 28,
   "metadata": {},
   "outputs": [],
   "source": [
    "living = house.add_room(\"livingroom\", 2)\n",
    "bed = house.add_room(\"bedroom\", 1)\n",
    "garden = house.add_room(\"garden\", 3)\n",
    "kitchen = house.add_room(\"kitchen\", 1)"
   ]
  },
  {
   "cell_type": "code",
   "execution_count": 29,
   "metadata": {},
   "outputs": [],
   "source": [
    "house.add_exit(\"north\", living, kitchen, \"south\")"
   ]
  },
  {
   "cell_type": "code",
   "execution_count": 30,
   "metadata": {},
   "outputs": [],
   "source": [
    "house.add_exit(\"upstairs\", living, bed, \"downstairs\")"
   ]
  },
  {
   "cell_type": "code",
   "execution_count": 31,
   "metadata": {},
   "outputs": [],
   "source": [
    "house.add_exit(\"outside\", living, garden, \"inside\")"
   ]
  },
  {
   "cell_type": "code",
   "execution_count": 32,
   "metadata": {},
   "outputs": [],
   "source": [
    "house.add_exit(\"jump\", bed, garden)"
   ]
  },
  {
   "cell_type": "code",
   "execution_count": 33,
   "metadata": {},
   "outputs": [],
   "source": [
    "house.add_occupant(\"James\", living)\n",
    "house.add_occupant(\"Sue\", garden)\n",
    "house.add_occupant(\"Bob\", bed)\n",
    "house.add_occupant(\"Clare\", garden)"
   ]
  },
  {
   "cell_type": "code",
   "execution_count": 34,
   "metadata": {},
   "outputs": [
    {
     "name": "stdout",
     "output_type": "stream",
     "text": [
      "James is in the livingroom\n",
      "Sue is in the garden\n",
      "Bob is in the bedroom\n",
      "Clare is in the garden\n",
      "\n",
      "James goes outside to the garden\n",
      "Sue goes inside to the livingroom\n",
      "Bob goes downstairs to the livingroom\n",
      "\n",
      "James is in the garden\n",
      "Sue is in the livingroom\n",
      "Bob is in the livingroom\n",
      "Clare is in the garden\n",
      "\n",
      "Sue goes outside to the garden\n",
      "Bob goes upstairs to the bedroom\n",
      "Clare goes inside to the livingroom\n",
      "\n",
      "James is in the garden\n",
      "Sue is in the garden\n",
      "Bob is in the bedroom\n",
      "Clare is in the livingroom\n",
      "\n",
      "James goes inside to the livingroom\n",
      "Bob goes jump to the garden\n",
      "Clare goes outside to the garden\n",
      "\n"
     ]
    }
   ],
   "source": [
    "house.simulate(3)"
   ]
  },
  {
   "cell_type": "markdown",
   "metadata": {},
   "source": [
    "This is a huge topic, about which many books have been written. The differences between these two designs are important, and will have long-term consequences for the project. That is the how we start to think about **software engineering**, as opposed to learning to program, and is an important knowledge to have."
   ]
  }
 ],
 "metadata": {
  "jekyll": {
   "display_name": "Classes"
  },
  "kernelspec": {
   "display_name": "Python 3",
   "language": "python",
   "name": "python3"
  },
  "language_info": {
   "codemirror_mode": {
    "name": "ipython",
    "version": 3
   },
   "file_extension": ".py",
   "mimetype": "text/x-python",
   "name": "python",
   "nbconvert_exporter": "python",
   "pygments_lexer": "ipython3",
   "version": "3.8.5"
  }
 },
 "nbformat": 4,
 "nbformat_minor": 4
}
